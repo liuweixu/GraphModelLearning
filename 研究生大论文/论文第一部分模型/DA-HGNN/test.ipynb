{
 "cells": [
  {
   "cell_type": "code",
   "execution_count": null,
   "metadata": {},
   "outputs": [],
   "source": []
  },
  {
   "cell_type": "code",
   "execution_count": 4,
   "metadata": {},
   "outputs": [],
   "source": [
    "# from cv2 import WND_PROP_FULLSCREEN\n",
    "# import torchvision.datasets\n",
    "from torch.nn.parameter import Parameter\n",
    "# from torchvision import transforms\n",
    "from torch.utils import data\n",
    "import torch\n",
    "import torch.nn as nn\n",
    "import torch.nn.functional as F\n",
    "from utils import sparse_to_adjlist\n",
    "import os\n",
    "from scipy.io import loadmat\n",
    "\n"
   ]
  },
  {
   "cell_type": "code",
   "execution_count": 7,
   "metadata": {},
   "outputs": [],
   "source": [
    "a = torch.normal(0, 0.01, size=(70, 1))\n",
    "T = torch.ones((100, 70, 768))"
   ]
  },
  {
   "cell_type": "code",
   "execution_count": 19,
   "metadata": {},
   "outputs": [],
   "source": [
    "b = torch.matmul(T.transpose(1, 2), a)"
   ]
  },
  {
   "cell_type": "code",
   "execution_count": 22,
   "metadata": {},
   "outputs": [
    {
     "data": {
      "text/plain": [
       "tensor([[-0.0146, -0.0146, -0.0146,  ..., -0.0146, -0.0146, -0.0146],\n",
       "        [-0.0146, -0.0146, -0.0146,  ..., -0.0146, -0.0146, -0.0146],\n",
       "        [-0.0146, -0.0146, -0.0146,  ..., -0.0146, -0.0146, -0.0146],\n",
       "        ...,\n",
       "        [-0.0146, -0.0146, -0.0146,  ..., -0.0146, -0.0146, -0.0146],\n",
       "        [-0.0146, -0.0146, -0.0146,  ..., -0.0146, -0.0146, -0.0146],\n",
       "        [-0.0146, -0.0146, -0.0146,  ..., -0.0146, -0.0146, -0.0146]])"
      ]
     },
     "execution_count": 22,
     "metadata": {},
     "output_type": "execute_result"
    }
   ],
   "source": [
    "c = torch.squeeze(b, dim=-1)\n",
    "c"
   ]
  },
  {
   "cell_type": "code",
   "execution_count": 23,
   "metadata": {},
   "outputs": [
    {
     "data": {
      "text/plain": [
       "torch.Size([100, 768])"
      ]
     },
     "execution_count": 23,
     "metadata": {},
     "output_type": "execute_result"
    }
   ],
   "source": [
    "c.shape"
   ]
  },
  {
   "cell_type": "code",
   "execution_count": null,
   "metadata": {},
   "outputs": [],
   "source": [
    "class Self_Attention(nn.Module):\n",
    "    def __init__(self, input_shape, dropout_rate=0.0):\n",
    "        super(Self_Attention, self).__init__()\n",
    "        self.dropout_layer = nn.Dropout(dropout_rate)\n",
    "        self.k = input_shape[-1]\n",
    "        self.W_layer = nn.Linear(self.k, self.k)\n",
    "        self.U_weight = Parameter(\n",
    "            torch.normal(0, 0.01, size=(input_shape[1], 1), requires_grad=True,device=torch.device('cuda:0'))\n",
    "        )\n",
    "\n",
    "    def forward(self, inputs):\n",
    "        if len(inputs.shape) != 3:\n",
    "            raise ValueError(\"The dim of inputs is required 3 but get {}\".format(len(inputs.shape)))\n",
    "    \n",
    "        x = self.W_layer(inputs)\n",
    "        score = torch.matmul()"
   ]
  }
 ],
 "metadata": {
  "kernelspec": {
   "display_name": "Python 3.9.7 ('bisai')",
   "language": "python",
   "name": "python3"
  },
  "language_info": {
   "codemirror_mode": {
    "name": "ipython",
    "version": 3
   },
   "file_extension": ".py",
   "mimetype": "text/x-python",
   "name": "python",
   "nbconvert_exporter": "python",
   "pygments_lexer": "ipython3",
   "version": "3.9.7"
  },
  "orig_nbformat": 4,
  "vscode": {
   "interpreter": {
    "hash": "648e9dc9ab98954f9e22545bb654b620d5cb1b8b560f21fb7a41b5339a9ac74b"
   }
  }
 },
 "nbformat": 4,
 "nbformat_minor": 2
}
