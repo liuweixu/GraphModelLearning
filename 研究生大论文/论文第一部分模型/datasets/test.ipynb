{
 "cells": [
  {
   "cell_type": "code",
   "execution_count": 1,
   "metadata": {},
   "outputs": [
    {
     "name": "stderr",
     "output_type": "stream",
     "text": [
      "d:\\Programing\\Anaconda\\envs\\bisai\\lib\\site-packages\\tqdm\\auto.py:22: TqdmWarning: IProgress not found. Please update jupyter and ipywidgets. See https://ipywidgets.readthedocs.io/en/stable/user_install.html\n",
      "  from .autonotebook import tqdm as notebook_tqdm\n"
     ]
    }
   ],
   "source": [
    "import pandas as pd\n",
    "import scipy.io\n",
    "import numpy as np\n",
    "import time\n",
    "from collections import defaultdict\n",
    "import scipy.sparse as sp\n",
    "import sys\n",
    "import time\n",
    "from utils import sparse_to_adjlist\n",
    "from scipy.io import loadmat\n",
    "import pickle\n",
    "\n",
    "import torch\n",
    "# from pytorch_pretrained_bert import BertTokenizer, BertModel, BertForMaskedLM\t\n",
    "from transformers import AutoTokenizer, AutoModel"
   ]
  },
  {
   "cell_type": "code",
   "execution_count": 2,
   "metadata": {},
   "outputs": [],
   "source": [
    "data = pd.read_csv('Labelled Yelp Dataset.csv')"
   ]
  },
  {
   "cell_type": "markdown",
   "metadata": {},
   "source": [
    "### 词向量训练---Bert"
   ]
  },
  {
   "cell_type": "code",
   "execution_count": 3,
   "metadata": {},
   "outputs": [
    {
     "name": "stderr",
     "output_type": "stream",
     "text": [
      "Some weights of the model checkpoint at bert-base-uncased were not used when initializing BertModel: ['cls.predictions.bias', 'cls.seq_relationship.bias', 'cls.predictions.transform.dense.bias', 'cls.seq_relationship.weight', 'cls.predictions.transform.LayerNorm.weight', 'cls.predictions.transform.LayerNorm.bias', 'cls.predictions.decoder.weight', 'cls.predictions.transform.dense.weight']\n",
      "- This IS expected if you are initializing BertModel from the checkpoint of a model trained on another task or with another architecture (e.g. initializing a BertForSequenceClassification model from a BertForPreTraining model).\n",
      "- This IS NOT expected if you are initializing BertModel from the checkpoint of a model that you expect to be exactly identical (initializing a BertForSequenceClassification model from a BertForSequenceClassification model).\n"
     ]
    }
   ],
   "source": [
    "import os\n",
    "os.environ['TRANSFORMERS_CACHE'] = ''\n",
    "\n",
    "# OPTIONAL: if you want to have more information on what's happening, activate the logger as follows\t\n",
    "from pytorch_pretrained_bert import BertTokenizer, BertModel, BertForMaskedLM\n",
    "# Load pretrained model/tokenizer\n",
    "tokenizer = AutoTokenizer.from_pretrained('bert-base-uncased')\n",
    "model = AutoModel.from_pretrained('bert-base-uncased')"
   ]
  },
  {
   "cell_type": "code",
   "execution_count": 4,
   "metadata": {},
   "outputs": [],
   "source": [
    "text_line = []\n",
    "for text in data['Review']:\n",
    "    text_line.append(text)"
   ]
  },
  {
   "cell_type": "code",
   "execution_count": 5,
   "metadata": {},
   "outputs": [],
   "source": [
    "text_batch = tokenizer(text_line, padding=True, truncation=True, max_length=70, return_tensors='pt')"
   ]
  },
  {
   "cell_type": "markdown",
   "metadata": {},
   "source": [
    "### 处理时间"
   ]
  },
  {
   "cell_type": "code",
   "execution_count": 6,
   "metadata": {},
   "outputs": [],
   "source": [
    "def func(datestring):\n",
    "    month, day, year = datestring.split('/')\n",
    "    if len(month) == 1:\n",
    "        month = '0' + month\n",
    "    if len(day) == 1:\n",
    "        day = '0' + day\n",
    "    return year + month + day\n",
    "data['Date'] = data.apply(lambda x:func(x['Date']), axis=1)"
   ]
  },
  {
   "cell_type": "code",
   "execution_count": 7,
   "metadata": {},
   "outputs": [],
   "source": [
    "data = data.sort_values(by='Date')"
   ]
  },
  {
   "cell_type": "code",
   "execution_count": 8,
   "metadata": {},
   "outputs": [
    {
     "data": {
      "text/html": [
       "<div>\n",
       "<style scoped>\n",
       "    .dataframe tbody tr th:only-of-type {\n",
       "        vertical-align: middle;\n",
       "    }\n",
       "\n",
       "    .dataframe tbody tr th {\n",
       "        vertical-align: top;\n",
       "    }\n",
       "\n",
       "    .dataframe thead th {\n",
       "        text-align: right;\n",
       "    }\n",
       "</style>\n",
       "<table border=\"1\" class=\"dataframe\">\n",
       "  <thead>\n",
       "    <tr style=\"text-align: right;\">\n",
       "      <th></th>\n",
       "      <th>User_id</th>\n",
       "      <th>Product_id</th>\n",
       "      <th>Rating</th>\n",
       "      <th>Date</th>\n",
       "      <th>Review</th>\n",
       "      <th>Label</th>\n",
       "    </tr>\n",
       "  </thead>\n",
       "  <tbody>\n",
       "    <tr>\n",
       "      <th>172805</th>\n",
       "      <td>30262</td>\n",
       "      <td>468</td>\n",
       "      <td>4</td>\n",
       "      <td>20041020</td>\n",
       "      <td>Excellent Soup Dumplings. It's a must if you g...</td>\n",
       "      <td>1</td>\n",
       "    </tr>\n",
       "    <tr>\n",
       "      <th>200617</th>\n",
       "      <td>107234</td>\n",
       "      <td>510</td>\n",
       "      <td>4</td>\n",
       "      <td>20041102</td>\n",
       "      <td>One of the best hidden no-name neighborhood pl...</td>\n",
       "      <td>1</td>\n",
       "    </tr>\n",
       "    <tr>\n",
       "      <th>58364</th>\n",
       "      <td>19015</td>\n",
       "      <td>142</td>\n",
       "      <td>5</td>\n",
       "      <td>20041209</td>\n",
       "      <td>Really lovely Italian food, very simple and we...</td>\n",
       "      <td>1</td>\n",
       "    </tr>\n",
       "    <tr>\n",
       "      <th>221175</th>\n",
       "      <td>116117</td>\n",
       "      <td>708</td>\n",
       "      <td>5</td>\n",
       "      <td>20050302</td>\n",
       "      <td>Mario Batali at his best, this is my current f...</td>\n",
       "      <td>1</td>\n",
       "    </tr>\n",
       "    <tr>\n",
       "      <th>161710</th>\n",
       "      <td>59929</td>\n",
       "      <td>454</td>\n",
       "      <td>5</td>\n",
       "      <td>20050307</td>\n",
       "      <td>Best place for brunch if you can handle the wa...</td>\n",
       "      <td>1</td>\n",
       "    </tr>\n",
       "  </tbody>\n",
       "</table>\n",
       "</div>"
      ],
      "text/plain": [
       "        User_id  Product_id  Rating      Date  \\\n",
       "172805    30262         468       4  20041020   \n",
       "200617   107234         510       4  20041102   \n",
       "58364     19015         142       5  20041209   \n",
       "221175   116117         708       5  20050302   \n",
       "161710    59929         454       5  20050307   \n",
       "\n",
       "                                                   Review  Label  \n",
       "172805  Excellent Soup Dumplings. It's a must if you g...      1  \n",
       "200617  One of the best hidden no-name neighborhood pl...      1  \n",
       "58364   Really lovely Italian food, very simple and we...      1  \n",
       "221175  Mario Batali at his best, this is my current f...      1  \n",
       "161710  Best place for brunch if you can handle the wa...      1  "
      ]
     },
     "execution_count": 8,
     "metadata": {},
     "output_type": "execute_result"
    }
   ],
   "source": [
    "data.head()"
   ]
  },
  {
   "cell_type": "markdown",
   "metadata": {},
   "source": [
    "### 比例要求"
   ]
  },
  {
   "cell_type": "code",
   "execution_count": 9,
   "metadata": {},
   "outputs": [
    {
     "data": {
      "text/plain": [
       "{1: 322167, -1: 36885}"
      ]
     },
     "execution_count": 9,
     "metadata": {},
     "output_type": "execute_result"
    }
   ],
   "source": [
    "import numpy as np\n",
    "dict(data['Label'].value_counts())"
   ]
  },
  {
   "cell_type": "markdown",
   "metadata": {},
   "source": [
    "### 划分数据集"
   ]
  },
  {
   "cell_type": "markdown",
   "metadata": {},
   "source": [
    "#### 总量"
   ]
  },
  {
   "cell_type": "code",
   "execution_count": 10,
   "metadata": {},
   "outputs": [
    {
     "data": {
      "text/plain": [
       "359052"
      ]
     },
     "execution_count": 10,
     "metadata": {},
     "output_type": "execute_result"
    }
   ],
   "source": [
    "data.shape[0]"
   ]
  },
  {
   "cell_type": "markdown",
   "metadata": {},
   "source": [
    "#### 取前30w作为训练集，剩余作为测试集，然后每1000行直接划分，得到300个mat数据集"
   ]
  },
  {
   "cell_type": "code",
   "execution_count": 11,
   "metadata": {},
   "outputs": [
    {
     "data": {
      "text/plain": [
       "(300000, 6)"
      ]
     },
     "execution_count": 11,
     "metadata": {},
     "output_type": "execute_result"
    }
   ],
   "source": [
    "data_train, data_test = data[:300000], data[300000:]\n",
    "data_train.shape"
   ]
  },
  {
   "cell_type": "markdown",
   "metadata": {},
   "source": [
    "### 构建数据集（mat格式）"
   ]
  },
  {
   "cell_type": "markdown",
   "metadata": {},
   "source": [
    "#### 构建映射"
   ]
  },
  {
   "cell_type": "code",
   "execution_count": 12,
   "metadata": {},
   "outputs": [],
   "source": [
    "def CooGet(name, subdata, number):\n",
    "    TId = subdata['Date']\n",
    "\n",
    "    dicts = {}\n",
    "    def func(a, b):\n",
    "        dicts[a] = b\n",
    "    subdata.apply(lambda x:func(x['Date'], x[name]), axis=1)\n",
    "    \n",
    "    dictset = defaultdict(set)\n",
    "\n",
    "    # def funcset(a, b):\n",
    "    #     if dicts[a] == dicts[b]:\n",
    "    #         dictset[a].add(b)\n",
    "    #         dictset[b].add(a)\n",
    "\n",
    "    # data.apply(lambda x:funcset(x['TransactionId'], x['TransactionId']), axis=1)\n",
    "    total = subdata.shape[0]\n",
    "\n",
    "    row = []\n",
    "    col = []\n",
    "    value = []\n",
    "    for i in range(subdata.shape[0]):\n",
    "        D = dicts[TId[i]]\n",
    "        E = (D == subdata[name])\n",
    "        L = list(np.where(E == True)[0])\n",
    "        # print(len(L))\n",
    "        R = [i]*len(L)\n",
    "        V = [1]*len(L)\n",
    "        C = L\n",
    "        row.extend(R)\n",
    "        col.extend(C)\n",
    "        value.extend(V)\n",
    "    \n",
    "    return sp.coo_matrix((value, (row, col)), shape=(subdata.shape[0], subdata.shape[0]))"
   ]
  },
  {
   "cell_type": "markdown",
   "metadata": {},
   "source": [
    "#### 处理构建标签"
   ]
  },
  {
   "cell_type": "code",
   "execution_count": 13,
   "metadata": {},
   "outputs": [],
   "source": [
    "def labelGet(labeltrain):\n",
    "    labelnew = []\n",
    "    for l in labeltrain:\n",
    "        if l == -1:\n",
    "            labelnew.append(0)\n",
    "        else:\n",
    "            labelnew.append(1)\n",
    "    return labelnew"
   ]
  },
  {
   "cell_type": "markdown",
   "metadata": {},
   "source": [
    "#### 处理特征"
   ]
  },
  {
   "cell_type": "code",
   "execution_count": 34,
   "metadata": {},
   "outputs": [],
   "source": [
    "def funcOfTextNumpy(text_batch, number):\n",
    "    # wordembedding_list = np.empty((0, 70*768))\n",
    "    # for num in range(number*1000, (number+1)*1000, 100):\n",
    "    #     wordembedding_batch = model(text_batch['input_ids'][num:num+100])  \n",
    "    #     t = wordembedding_batch[0].reshape(100, -1).detach().numpy().T\n",
    "    #     tt = (t - np.min(t))/(np.max(t)-np.min(t))\n",
    "    #     wordembedding_sub = tt.T\n",
    "    #     print(wordembedding_sub.shape)\n",
    "    #     wordembedding_list = np.concatenate((wordembedding_list, wordembedding_sub), axis=0)\n",
    "    #     print('\\r' + '{:.2f}'.format(num/10), end='', flush=True)\n",
    "    # return np.array(wordembedding_list)\n",
    "    wordembedding_batch = model(text_batch['input_ids'][number*100:(number+1)*100])  \n",
    "    t = wordembedding_batch[0].detach().numpy()\n",
    "    features_text = t\n",
    "    return features_text"
   ]
  },
  {
   "cell_type": "code",
   "execution_count": 35,
   "metadata": {},
   "outputs": [],
   "source": [
    "def funcOfstrToint(strnum):\n",
    "    return int(strnum)"
   ]
  },
  {
   "cell_type": "code",
   "execution_count": 36,
   "metadata": {},
   "outputs": [],
   "source": [
    "def featureGet(f_data):\n",
    "    f_data['Date'] = f_data.apply(lambda x:funcOfstrToint(x['Date']), axis=1)\n",
    "    f_data = f_data.apply(lambda x: (x - np.min(x)) / (np.max(x) - np.min(x))) \n",
    "    features = np.array(f_data)\n",
    "    features_coo = sp.coo_matrix(features)\n",
    "    return features_coo"
   ]
  },
  {
   "cell_type": "markdown",
   "metadata": {},
   "source": [
    "### 整合"
   ]
  },
  {
   "cell_type": "code",
   "execution_count": 37,
   "metadata": {},
   "outputs": [],
   "source": [
    "def train(subdata, number):\n",
    "    coo_user = CooGet(name='User_id', subdata=subdata, number=number)\n",
    "    coo_product = CooGet(name='Product_id', subdata=subdata, number=number)\n",
    "    \n",
    "    subdata1 = subdata.drop(['User_id', 'Product_id', 'Review', 'Label'], axis=1)\n",
    "    subdata1 = subdata1.reset_index(drop=True)\n",
    "    label = subdata['Label']\n",
    "    labelnew = labelGet(label)\n",
    "    features_text = funcOfTextNumpy(text_batch, number)\n",
    "    features_coo = featureGet(subdata1)\n",
    "    scipy.io.savemat('matFolder\\FraudDataset_{}.mat'.format(number),{'rur':coo_user, 'rpr':coo_product, \"features\":features_coo,\"text\":features_text, \"label\":labelnew})\n",
    "    print('\\r' + '{:.2f}'.format((number+1)/300 * 100), end='', flush=True)\n",
    "    "
   ]
  },
  {
   "cell_type": "code",
   "execution_count": 42,
   "metadata": {},
   "outputs": [
    {
     "name": "stdout",
     "output_type": "stream",
     "text": [
      "1.00"
     ]
    }
   ],
   "source": [
    "for i in range(3):\n",
    "    subdata = data_train[i*100 : (i+1)*100]\n",
    "    subdata = subdata.reset_index(drop=True)\n",
    "    train(subdata, i)\n",
    "    "
   ]
  },
  {
   "cell_type": "code",
   "execution_count": 3,
   "metadata": {},
   "outputs": [],
   "source": [
    "\n",
    "\n",
    "\"\"\"\n",
    "\tRead data and save the adjacency matrices to adjacency lists\n",
    "\"\"\"\n",
    "\n",
    "\n",
    "# if __name__ == \"__main__\":\n",
    "\n",
    "\t# prefix = ''\n",
    "\n",
    "test = loadmat('matFolder/FraudDataset_0.mat')\n",
    "test1 = loadmat('matFolder/FraudDataset_2.mat')\n",
    "\n",
    "# sparse_to_adjlist(net_rur, prefix + 'yelp_rur_adjlists.pickle')\n",
    "# sparse_to_adjlist(net_rtr, prefix + 'yelp_rtr_adjlists.pickle')\n",
    "# sparse_to_adjlist(net_rsr, prefix + 'yelp_rsr_adjlists.pickle')\n",
    "# sparse_to_adjlist(yelp_homo, prefix + 'yelp_homo_adjlists.pickle')\n",
    "\n",
    "# amz = loadmat('Amazon.mat')\n",
    "# net_upu = amz['net_upu']\n",
    "# net_usu = amz['net_usu']\n",
    "# net_uvu = amz['net_uvu']\n",
    "# amz_homo = amz['homo']\n",
    "\n",
    "\n",
    "# sparse_to_adjlist(net_upu, prefix + 'amz_upu_adjlists.pickle')\n",
    "# sparse_to_adjlist(net_usu, prefix + 'amz_usu_adjlists.pickle')\n",
    "# sparse_to_adjlist(net_uvu, prefix + 'amz_uvu_adjlists.pickle')\n",
    "# sparse_to_adjlist(amz_homo, prefix + 'amz_homo_adjlists.pickle')\n"
   ]
  },
  {
   "cell_type": "code",
   "execution_count": 5,
   "metadata": {},
   "outputs": [
    {
     "data": {
      "text/plain": [
       "{'__header__': b'MATLAB 5.0 MAT-file Platform: nt, Created on: Fri Jun 17 09:16:42 2022',\n",
       " '__version__': '1.0',\n",
       " '__globals__': [],\n",
       " 'rur': <100x100 sparse matrix of type '<class 'numpy.int32'>'\n",
       " \twith 968 stored elements in Compressed Sparse Column format>,\n",
       " 'rpr': <100x100 sparse matrix of type '<class 'numpy.int32'>'\n",
       " \twith 222 stored elements in Compressed Sparse Column format>,\n",
       " 'features': <100x2 sparse matrix of type '<class 'numpy.float64'>'\n",
       " \twith 194 stored elements in Compressed Sparse Column format>,\n",
       " 'text': array([[[-0.16176604, -0.10799506, -0.28463998, ..., -0.05414923,\n",
       "           0.6224663 ,  0.456627  ],\n",
       "         [ 0.43537915, -0.9114257 , -0.02543993, ..., -0.21906473,\n",
       "           0.7397299 ,  0.19465987],\n",
       "         [ 0.09081059, -1.5069907 ,  0.06811708, ..., -0.23250109,\n",
       "           0.11629332,  0.01919228],\n",
       "         ...,\n",
       "         [ 0.05886769, -0.66331977,  0.05971935, ..., -0.09282777,\n",
       "           0.5895977 ,  0.09413048],\n",
       "         [-0.3042255 , -1.2610446 , -0.09593259, ...,  0.73638296,\n",
       "           0.8037771 , -0.35535902],\n",
       "         [ 0.4226743 ,  0.3449973 , -0.14128107, ...,  0.21562795,\n",
       "          -0.47158208, -0.54015166]],\n",
       " \n",
       "        [[ 0.07740402, -0.16268715,  0.08382545, ..., -0.05852576,\n",
       "           0.5629257 ,  0.18334633],\n",
       "         [ 0.44464454, -0.13380633,  0.10992998, ..., -0.49102828,\n",
       "           0.95711637, -0.02002793],\n",
       "         [ 1.4503806 , -0.0778251 ,  0.02747957, ..., -0.8862255 ,\n",
       "          -0.12581679,  0.11644251],\n",
       "         ...,\n",
       "         [-0.2622453 , -0.25279975,  0.4833384 , ..., -1.1064522 ,\n",
       "           0.23609841, -0.63654965],\n",
       "         [-0.23732625, -1.48091   , -0.06277835, ..., -0.22301868,\n",
       "           0.06012678, -0.31114683],\n",
       "         [-0.2866481 ,  0.3116939 ,  0.4611117 , ..., -0.37353918,\n",
       "           0.07555231, -0.8636408 ]],\n",
       " \n",
       "        [[-0.09647688, -0.31573   ,  0.15736927, ...,  0.34566703,\n",
       "           0.0471926 ,  0.65453184],\n",
       "         [ 0.25634515, -0.36133018,  0.46316653, ..., -0.2733872 ,\n",
       "           0.6015419 , -0.01823686],\n",
       "         [-0.24658386, -0.8708633 ,  1.1368479 , ...,  0.19555731,\n",
       "           0.01107947,  0.68939835],\n",
       "         ...,\n",
       "         [ 0.34029913, -0.23158178,  0.31203192, ...,  0.08586998,\n",
       "          -0.21155281,  0.07132676],\n",
       "         [-0.5377746 , -1.4927651 ,  0.26016554, ...,  0.41310865,\n",
       "          -0.47700718, -0.3110107 ],\n",
       "         [ 0.10036934,  0.29723275,  0.08692069, ...,  0.47907206,\n",
       "          -0.44096503, -0.40149966]],\n",
       " \n",
       "        ...,\n",
       " \n",
       "        [[-0.5188741 ,  0.28629145,  0.35366058, ..., -0.3158408 ,\n",
       "           0.681432  , -0.72492903],\n",
       "         [ 0.07345215, -0.00176677,  0.07483141, ...,  0.32858035,\n",
       "           0.9727522 ,  0.11663625],\n",
       "         [-0.3578522 , -0.07534896,  0.23271732, ...,  0.3363178 ,\n",
       "          -0.06267855,  0.13008815],\n",
       "         ...,\n",
       "         [ 0.28410456, -0.21119386,  0.94693583, ..., -0.7169817 ,\n",
       "           0.06417107, -1.1748071 ],\n",
       "         [ 0.2908577 , -0.14275512,  0.92387456, ..., -0.78333485,\n",
       "          -0.08724125, -1.2110654 ],\n",
       "         [ 0.25627202, -0.14220509,  0.84182936, ..., -0.7040754 ,\n",
       "          -0.11379164, -1.2843759 ]],\n",
       " \n",
       "        [[-0.5077095 ,  0.17907801,  0.36611485, ..., -0.2673007 ,\n",
       "           0.49759486, -0.512816  ],\n",
       "         [-0.28125903, -0.1586793 ,  0.10667148, ..., -0.02072638,\n",
       "           0.5721953 , -0.14258422],\n",
       "         [-0.24600273,  0.04431286,  0.10512536, ..., -0.21671897,\n",
       "           0.1249416 , -0.43235913],\n",
       "         ...,\n",
       "         [ 0.10361466, -0.23781925,  0.86283237, ..., -0.47672856,\n",
       "           0.14436728, -0.85645294],\n",
       "         [ 0.11027461, -0.20704877,  0.8747771 , ..., -0.49552342,\n",
       "           0.04830854, -0.8967345 ],\n",
       "         [ 0.10731704, -0.11521626,  0.81659186, ..., -0.41528413,\n",
       "           0.0043712 , -1.0188911 ]],\n",
       " \n",
       "        [[-0.0643459 , -0.27135032,  0.20819186, ..., -0.1562952 ,\n",
       "           0.5912641 ,  0.16140899],\n",
       "         [-0.4415213 , -0.87628436,  0.27249977, ..., -0.17495279,\n",
       "           0.36051357, -0.07195324],\n",
       "         [ 0.31886166, -0.7872551 , -0.04749914, ..., -0.11581757,\n",
       "           0.21482135, -0.43459448],\n",
       "         ...,\n",
       "         [ 0.04501242, -0.35550404,  0.9667262 , ...,  0.00920849,\n",
       "          -0.13038456, -0.02410739],\n",
       "         [-0.69295967, -0.95821136,  0.39750582, ..., -0.09802977,\n",
       "          -0.19491857, -1.3472297 ],\n",
       "         [ 0.36233714,  0.35281286,  0.04937999, ...,  0.23306423,\n",
       "          -0.38558248, -0.30650547]]], dtype=float32),\n",
       " 'label': array([[1, 1, 1, 1, 1, 1, 1, 1, 1, 1, 1, 1, 1, 1, 1, 1, 1, 1, 1, 1, 1, 1,\n",
       "         1, 0, 1, 1, 1, 1, 0, 1, 0, 1, 1, 1, 1, 1, 0, 1, 1, 0, 1, 0, 1, 0,\n",
       "         0, 0, 1, 1, 0, 1, 1, 0, 1, 0, 1, 1, 1, 1, 0, 1, 1, 0, 1, 1, 1, 1,\n",
       "         1, 1, 1, 1, 1, 0, 0, 0, 0, 0, 1, 1, 0, 1, 1, 1, 1, 0, 1, 1, 0, 1,\n",
       "         1, 1, 0, 1, 1, 1, 1, 1, 1, 1, 1, 1]])}"
      ]
     },
     "execution_count": 5,
     "metadata": {},
     "output_type": "execute_result"
    }
   ],
   "source": [
    "test1"
   ]
  },
  {
   "cell_type": "code",
   "execution_count": 22,
   "metadata": {},
   "outputs": [],
   "source": [
    "a = sparse_to_adjlist(test['rur'],'fsdfs')"
   ]
  },
  {
   "cell_type": "code",
   "execution_count": 40,
   "metadata": {},
   "outputs": [],
   "source": [
    "H = torch.zeros(len(a), len(a))"
   ]
  },
  {
   "cell_type": "code",
   "execution_count": 64,
   "metadata": {},
   "outputs": [],
   "source": [
    "H[0,[0,1,2]]=0"
   ]
  },
  {
   "cell_type": "code",
   "execution_count": 27,
   "metadata": {},
   "outputs": [
    {
     "data": {
      "text/plain": [
       "(100, 53760)"
      ]
     },
     "execution_count": 27,
     "metadata": {},
     "output_type": "execute_result"
    }
   ],
   "source": [
    "test['text'].todense().shape"
   ]
  },
  {
   "cell_type": "code",
   "execution_count": 66,
   "metadata": {},
   "outputs": [
    {
     "data": {
      "text/plain": [
       "[0, 723]"
      ]
     },
     "execution_count": 66,
     "metadata": {},
     "output_type": "execute_result"
    }
   ],
   "source": [
    "list(a[0])"
   ]
  },
  {
   "cell_type": "code",
   "execution_count": 67,
   "metadata": {},
   "outputs": [],
   "source": [
    "for num in range(1000):\n",
    "    H[num,list(a[num])]=1"
   ]
  },
  {
   "cell_type": "code",
   "execution_count": 68,
   "metadata": {},
   "outputs": [
    {
     "data": {
      "text/plain": [
       "tensor([[1., 0., 0.,  ..., 0., 0., 0.],\n",
       "        [0., 1., 0.,  ..., 0., 0., 0.],\n",
       "        [0., 0., 1.,  ..., 0., 0., 0.],\n",
       "        ...,\n",
       "        [0., 0., 0.,  ..., 1., 1., 0.],\n",
       "        [0., 0., 0.,  ..., 1., 1., 0.],\n",
       "        [0., 0., 0.,  ..., 0., 0., 1.]])"
      ]
     },
     "execution_count": 68,
     "metadata": {},
     "output_type": "execute_result"
    }
   ],
   "source": [
    "H"
   ]
  },
  {
   "cell_type": "code",
   "execution_count": 48,
   "metadata": {},
   "outputs": [
    {
     "data": {
      "text/plain": [
       "array([[[-0.36804953, -0.31136674,  0.0919463 , ...,  0.18546656,\n",
       "          1.0369701 , -0.23599096],\n",
       "        [-0.30748078, -0.29594746, -0.93212026, ...,  0.4892611 ,\n",
       "          0.82009196, -0.46048644],\n",
       "        [-0.30938405,  0.09215397, -0.04307485, ...,  0.01188965,\n",
       "          0.11065535, -0.31620052],\n",
       "        ...,\n",
       "        [-0.0892612 , -0.34226352,  0.96008897, ..., -0.50839555,\n",
       "          0.25884992, -1.1857784 ],\n",
       "        [-0.06850254, -0.3405885 ,  0.91618574, ..., -0.5493145 ,\n",
       "          0.09982642, -1.2260445 ],\n",
       "        [ 0.06488391, -0.27242485,  0.6762425 , ..., -0.49933496,\n",
       "          0.09576812, -1.3604608 ]],\n",
       "\n",
       "       [[ 0.30862743, -0.00673346,  0.38006878, ..., -0.36603507,\n",
       "          0.49364388,  0.5412597 ],\n",
       "        [-0.5156873 , -0.33566415,  0.55577534, ..., -0.939682  ,\n",
       "          0.3632382 ,  0.8425638 ],\n",
       "        [-0.43586975, -0.384663  ,  0.24438003, ..., -0.46155035,\n",
       "          0.22115153,  0.31721544],\n",
       "        ...,\n",
       "        [ 0.3067816 ,  0.2894043 ,  1.0027261 , ...,  0.33787903,\n",
       "         -0.40151715,  0.1726548 ],\n",
       "        [ 0.25176767,  0.00908469,  0.7305787 , ..., -0.04154884,\n",
       "          0.1730478 ,  0.10072105],\n",
       "        [ 0.22824982,  0.06337621,  0.8356419 , ..., -0.08235931,\n",
       "          0.21224318, -0.0093937 ]],\n",
       "\n",
       "       [[-0.2737725 , -0.18035573,  0.27655596, ...,  0.04556175,\n",
       "          0.79136574, -0.47182077],\n",
       "        [ 0.10087425, -0.4075396 ,  0.21373491, ...,  0.17151836,\n",
       "          0.5494797 ,  0.28246978],\n",
       "        [ 0.21906547, -0.5245918 ,  0.02425892, ...,  0.25520107,\n",
       "          0.19986229, -0.39694718],\n",
       "        ...,\n",
       "        [ 0.11224505, -0.42977747,  0.93250614, ..., -0.6724487 ,\n",
       "          0.11155455, -1.1130558 ],\n",
       "        [ 0.16254032, -0.3638021 ,  0.9716653 , ..., -0.76170623,\n",
       "          0.01857952, -1.1826917 ],\n",
       "        [ 0.07432347, -0.27278045,  0.51518965, ..., -0.6302302 ,\n",
       "         -0.088939  , -1.3969837 ]],\n",
       "\n",
       "       ...,\n",
       "\n",
       "       [[-0.36796322,  0.15720934,  0.45144778, ..., -0.31456774,\n",
       "          0.41205907, -0.6829513 ],\n",
       "        [ 0.41334915, -0.19945452,  0.31675097, ...,  0.14178917,\n",
       "          0.898487  ,  0.35312447],\n",
       "        [-0.2553823 ,  0.4713774 ,  1.051931  , ..., -0.26929644,\n",
       "         -0.2528048 , -0.44033062],\n",
       "        ...,\n",
       "        [ 0.31533688, -0.25087944,  0.9887583 , ..., -0.7098546 ,\n",
       "          0.01775079, -1.0295597 ],\n",
       "        [ 0.34217063, -0.20978203,  0.9895942 , ..., -0.7686867 ,\n",
       "         -0.13616695, -1.0728844 ],\n",
       "        [ 0.31708282, -0.20435444,  0.92126405, ..., -0.6895005 ,\n",
       "         -0.12886004, -1.1392491 ]],\n",
       "\n",
       "       [[-0.12313239,  0.06324302, -0.20861363, ..., -0.07276531,\n",
       "          0.6927149 ,  0.31682646],\n",
       "        [ 0.16396351, -0.42750153, -0.06826724, ...,  0.4396035 ,\n",
       "          0.6573005 , -0.17378281],\n",
       "        [-0.58174336,  0.07694223,  0.06315123, ..., -0.10548135,\n",
       "          0.5023376 ,  0.6408648 ],\n",
       "        ...,\n",
       "        [-0.4968923 , -0.18598312,  0.27972665, ...,  0.36255705,\n",
       "          0.91503656,  0.32306764],\n",
       "        [-0.86792517, -0.591127  ,  0.14478807, ...,  0.7885245 ,\n",
       "          0.49594173, -0.08963872],\n",
       "        [ 0.06671978,  0.32279533,  0.06818338, ...,  0.41320586,\n",
       "         -0.347134  , -0.43819118]],\n",
       "\n",
       "       [[-0.4360943 ,  0.1165976 ,  0.19982038, ..., -0.09355851,\n",
       "          0.64176583, -0.54452515],\n",
       "        [-0.48055968, -0.03549184, -0.45608625, ..., -0.5434331 ,\n",
       "          0.72261083,  0.2217245 ],\n",
       "        [-0.00605411,  0.22949412,  0.2789034 , ..., -0.2911294 ,\n",
       "         -0.1392053 , -0.05101009],\n",
       "        ...,\n",
       "        [ 0.26488593, -0.27859795,  0.91498744, ..., -0.75087726,\n",
       "          0.04783564, -1.055788  ],\n",
       "        [ 0.23691703, -0.21324667,  0.9396201 , ..., -0.8156269 ,\n",
       "         -0.08965881, -1.080992  ],\n",
       "        [ 0.2277111 , -0.19464555,  0.84398705, ..., -0.7281301 ,\n",
       "         -0.09587668, -1.2196376 ]]], dtype=float32)"
      ]
     },
     "execution_count": 48,
     "metadata": {},
     "output_type": "execute_result"
    }
   ],
   "source": [
    "test['text']"
   ]
  },
  {
   "cell_type": "code",
   "execution_count": 50,
   "metadata": {},
   "outputs": [
    {
     "data": {
      "text/plain": [
       "array([[[-0.16176604, -0.10799506, -0.28463998, ..., -0.05414923,\n",
       "          0.6224663 ,  0.456627  ],\n",
       "        [ 0.43537915, -0.9114257 , -0.02543993, ..., -0.21906473,\n",
       "          0.7397299 ,  0.19465987],\n",
       "        [ 0.09081059, -1.5069907 ,  0.06811708, ..., -0.23250109,\n",
       "          0.11629332,  0.01919228],\n",
       "        ...,\n",
       "        [ 0.05886769, -0.66331977,  0.05971935, ..., -0.09282777,\n",
       "          0.5895977 ,  0.09413048],\n",
       "        [-0.3042255 , -1.2610446 , -0.09593259, ...,  0.73638296,\n",
       "          0.8037771 , -0.35535902],\n",
       "        [ 0.4226743 ,  0.3449973 , -0.14128107, ...,  0.21562795,\n",
       "         -0.47158208, -0.54015166]],\n",
       "\n",
       "       [[ 0.07740402, -0.16268715,  0.08382545, ..., -0.05852576,\n",
       "          0.5629257 ,  0.18334633],\n",
       "        [ 0.44464454, -0.13380633,  0.10992998, ..., -0.49102828,\n",
       "          0.95711637, -0.02002793],\n",
       "        [ 1.4503806 , -0.0778251 ,  0.02747957, ..., -0.8862255 ,\n",
       "         -0.12581679,  0.11644251],\n",
       "        ...,\n",
       "        [-0.2622453 , -0.25279975,  0.4833384 , ..., -1.1064522 ,\n",
       "          0.23609841, -0.63654965],\n",
       "        [-0.23732625, -1.48091   , -0.06277835, ..., -0.22301868,\n",
       "          0.06012678, -0.31114683],\n",
       "        [-0.2866481 ,  0.3116939 ,  0.4611117 , ..., -0.37353918,\n",
       "          0.07555231, -0.8636408 ]],\n",
       "\n",
       "       [[-0.09647688, -0.31573   ,  0.15736927, ...,  0.34566703,\n",
       "          0.0471926 ,  0.65453184],\n",
       "        [ 0.25634515, -0.36133018,  0.46316653, ..., -0.2733872 ,\n",
       "          0.6015419 , -0.01823686],\n",
       "        [-0.24658386, -0.8708633 ,  1.1368479 , ...,  0.19555731,\n",
       "          0.01107947,  0.68939835],\n",
       "        ...,\n",
       "        [ 0.34029913, -0.23158178,  0.31203192, ...,  0.08586998,\n",
       "         -0.21155281,  0.07132676],\n",
       "        [-0.5377746 , -1.4927651 ,  0.26016554, ...,  0.41310865,\n",
       "         -0.47700718, -0.3110107 ],\n",
       "        [ 0.10036934,  0.29723275,  0.08692069, ...,  0.47907206,\n",
       "         -0.44096503, -0.40149966]],\n",
       "\n",
       "       ...,\n",
       "\n",
       "       [[-0.5188741 ,  0.28629145,  0.35366058, ..., -0.3158408 ,\n",
       "          0.681432  , -0.72492903],\n",
       "        [ 0.07345215, -0.00176677,  0.07483141, ...,  0.32858035,\n",
       "          0.9727522 ,  0.11663625],\n",
       "        [-0.3578522 , -0.07534896,  0.23271732, ...,  0.3363178 ,\n",
       "         -0.06267855,  0.13008815],\n",
       "        ...,\n",
       "        [ 0.28410456, -0.21119386,  0.94693583, ..., -0.7169817 ,\n",
       "          0.06417107, -1.1748071 ],\n",
       "        [ 0.2908577 , -0.14275512,  0.92387456, ..., -0.78333485,\n",
       "         -0.08724125, -1.2110654 ],\n",
       "        [ 0.25627202, -0.14220509,  0.84182936, ..., -0.7040754 ,\n",
       "         -0.11379164, -1.2843759 ]],\n",
       "\n",
       "       [[-0.5077095 ,  0.17907801,  0.36611485, ..., -0.2673007 ,\n",
       "          0.49759486, -0.512816  ],\n",
       "        [-0.28125903, -0.1586793 ,  0.10667148, ..., -0.02072638,\n",
       "          0.5721953 , -0.14258422],\n",
       "        [-0.24600273,  0.04431286,  0.10512536, ..., -0.21671897,\n",
       "          0.1249416 , -0.43235913],\n",
       "        ...,\n",
       "        [ 0.10361466, -0.23781925,  0.86283237, ..., -0.47672856,\n",
       "          0.14436728, -0.85645294],\n",
       "        [ 0.11027461, -0.20704877,  0.8747771 , ..., -0.49552342,\n",
       "          0.04830854, -0.8967345 ],\n",
       "        [ 0.10731704, -0.11521626,  0.81659186, ..., -0.41528413,\n",
       "          0.0043712 , -1.0188911 ]],\n",
       "\n",
       "       [[-0.0643459 , -0.27135032,  0.20819186, ..., -0.1562952 ,\n",
       "          0.5912641 ,  0.16140899],\n",
       "        [-0.4415213 , -0.87628436,  0.27249977, ..., -0.17495279,\n",
       "          0.36051357, -0.07195324],\n",
       "        [ 0.31886166, -0.7872551 , -0.04749914, ..., -0.11581757,\n",
       "          0.21482135, -0.43459448],\n",
       "        ...,\n",
       "        [ 0.04501242, -0.35550404,  0.9667262 , ...,  0.00920849,\n",
       "         -0.13038456, -0.02410739],\n",
       "        [-0.69295967, -0.95821136,  0.39750582, ..., -0.09802977,\n",
       "         -0.19491857, -1.3472297 ],\n",
       "        [ 0.36233714,  0.35281286,  0.04937999, ...,  0.23306423,\n",
       "         -0.38558248, -0.30650547]]], dtype=float32)"
      ]
     },
     "execution_count": 50,
     "metadata": {},
     "output_type": "execute_result"
    }
   ],
   "source": [
    "test1['text']"
   ]
  },
  {
   "cell_type": "code",
   "execution_count": null,
   "metadata": {},
   "outputs": [],
   "source": []
  }
 ],
 "metadata": {
  "kernelspec": {
   "display_name": "Python 3.9.7 ('bisai')",
   "language": "python",
   "name": "python3"
  },
  "language_info": {
   "codemirror_mode": {
    "name": "ipython",
    "version": 3
   },
   "file_extension": ".py",
   "mimetype": "text/x-python",
   "name": "python",
   "nbconvert_exporter": "python",
   "pygments_lexer": "ipython3",
   "version": "3.9.7"
  },
  "orig_nbformat": 4,
  "vscode": {
   "interpreter": {
    "hash": "648e9dc9ab98954f9e22545bb654b620d5cb1b8b560f21fb7a41b5339a9ac74b"
   }
  }
 },
 "nbformat": 4,
 "nbformat_minor": 2
}
